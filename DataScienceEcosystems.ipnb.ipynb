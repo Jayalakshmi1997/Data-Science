{
 "cells": [
  {
   "cell_type": "markdown",
   "id": "d3340955",
   "metadata": {},
   "source": [
    "# DataScience Tools and Ecosystem\n"
   ]
  },
  {
   "cell_type": "markdown",
   "id": "f8cfcc87",
   "metadata": {},
   "source": [
    "In this notebook, Data science Tools and Ecosystem are summarized."
   ]
  },
  {
   "cell_type": "markdown",
   "id": "ce580b3b",
   "metadata": {},
   "source": [
    "some of the popular languages that data scientists use are:\n",
    "    \n",
    "    1.python\n",
    "    2.R\n",
    "    3.Java"
   ]
  },
  {
   "cell_type": "markdown",
   "id": "f610699c",
   "metadata": {},
   "source": [
    "Some of the commonly used libraries used by Data Scientists include:\n",
    "    \n",
    "1.TensorFlow\n",
    "\n",
    "2.Scikit-learn\n",
    "\n",
    "3.Numpy\n",
    "\n",
    "4.Pandas\n"
   ]
  },
  {
   "cell_type": "markdown",
   "id": "bfdb04ba",
   "metadata": {},
   "source": [
    "| Data science Tools | \n",
    "--------------------- \n",
    "| Jupiter            | \n",
    "| Jupiter notebook   | \n",
    "| Rstudio            |"
   ]
  },
  {
   "cell_type": "markdown",
   "id": "04570287",
   "metadata": {},
   "source": [
    "### Below are a few examples of evaluating arithmetic expressions in python."
   ]
  },
  {
   "cell_type": "code",
   "execution_count": 1,
   "id": "46a569d8",
   "metadata": {},
   "outputs": [
    {
     "name": "stdout",
     "output_type": "stream",
     "text": [
      "17\n"
     ]
    }
   ],
   "source": [
    "#This is a simple arithmetic expression to multiply then add integers.\n",
    "\n",
    "a = (3*4)+5\n",
    "print(a)"
   ]
  },
  {
   "cell_type": "code",
   "execution_count": 2,
   "id": "b22a2c27",
   "metadata": {},
   "outputs": [
    {
     "name": "stdout",
     "output_type": "stream",
     "text": [
      "3\n"
     ]
    }
   ],
   "source": [
    "# This will convert 200 minutes to hours by dividing by 60.\n",
    "minutes = 200\n",
    "hours_in_minutes = 60 \n",
    "print(minutes//hours_in_minutes)"
   ]
  },
  {
   "cell_type": "markdown",
   "id": "9d57d44a",
   "metadata": {},
   "source": [
    "In this notebook, Data science Tools and Ecosystem are summarized.\n",
    "\n",
    "## Objectives:\n",
    "\n",
    "* python \n",
    "* R \n",
    "* Java \n",
    "* C++\n",
    "* JavaScript"
   ]
  },
  {
   "cell_type": "markdown",
   "id": "98bc9d3d",
   "metadata": {},
   "source": [
    "## Author \n",
    "Jayalakshmi"
   ]
  },
  {
   "cell_type": "code",
   "execution_count": null,
   "id": "c1a410df",
   "metadata": {},
   "outputs": [],
   "source": []
  }
 ],
 "metadata": {
  "kernelspec": {
   "display_name": "Python 3 (ipykernel)",
   "language": "python",
   "name": "python3"
  },
  "language_info": {
   "codemirror_mode": {
    "name": "ipython",
    "version": 3
   },
   "file_extension": ".py",
   "mimetype": "text/x-python",
   "name": "python",
   "nbconvert_exporter": "python",
   "pygments_lexer": "ipython3",
   "version": "3.11.5"
  }
 },
 "nbformat": 4,
 "nbformat_minor": 5
}
