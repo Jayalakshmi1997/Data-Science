{
 "cells": [
  {
   "cell_type": "markdown",
   "id": "809e42bd-7f0b-4691-80d6-0b5339dfd07d",
   "metadata": {},
   "source": [
    "Data cleaning"
   ]
  },
  {
   "cell_type": "code",
   "execution_count": 1,
   "id": "d8f8b1c3-ce84-4bc4-8b77-77d737c8e9ec",
   "metadata": {},
   "outputs": [],
   "source": [
    "import pandas as pd\n",
    "import numpy as np\n",
    "import matplotlib.pyplot as plt"
   ]
  },
  {
   "cell_type": "code",
   "execution_count": 2,
   "id": "b8e205d9-f10b-44a0-bc94-c4e9e797e088",
   "metadata": {},
   "outputs": [],
   "source": [
    "from mpl_toolkits import mplot3d"
   ]
  },
  {
   "cell_type": "code",
   "execution_count": 3,
   "id": "6a27ba38-ce22-4e37-b0a2-878e2f540ae7",
   "metadata": {},
   "outputs": [],
   "source": [
    "df=pd.read_csv(\"Downloads/Crop Production data.csv\")"
   ]
  },
  {
   "cell_type": "code",
   "execution_count": 4,
   "id": "085c71e5-f19a-4075-b16f-a4c5cc60d5a9",
   "metadata": {},
   "outputs": [
    {
     "data": {
      "text/html": [
       "<div>\n",
       "<style scoped>\n",
       "    .dataframe tbody tr th:only-of-type {\n",
       "        vertical-align: middle;\n",
       "    }\n",
       "\n",
       "    .dataframe tbody tr th {\n",
       "        vertical-align: top;\n",
       "    }\n",
       "\n",
       "    .dataframe thead th {\n",
       "        text-align: right;\n",
       "    }\n",
       "</style>\n",
       "<table border=\"1\" class=\"dataframe\">\n",
       "  <thead>\n",
       "    <tr style=\"text-align: right;\">\n",
       "      <th></th>\n",
       "      <th>State_Name</th>\n",
       "      <th>District_Name</th>\n",
       "      <th>Crop_Year</th>\n",
       "      <th>Season</th>\n",
       "      <th>Crop</th>\n",
       "      <th>Area</th>\n",
       "      <th>Production</th>\n",
       "    </tr>\n",
       "  </thead>\n",
       "  <tbody>\n",
       "    <tr>\n",
       "      <th>0</th>\n",
       "      <td>Andaman and Nicobar Islands</td>\n",
       "      <td>NICOBARS</td>\n",
       "      <td>2000</td>\n",
       "      <td>Kharif</td>\n",
       "      <td>Arecanut</td>\n",
       "      <td>1254.0</td>\n",
       "      <td>2000.0</td>\n",
       "    </tr>\n",
       "    <tr>\n",
       "      <th>1</th>\n",
       "      <td>Andaman and Nicobar Islands</td>\n",
       "      <td>NICOBARS</td>\n",
       "      <td>2000</td>\n",
       "      <td>Kharif</td>\n",
       "      <td>Other Kharif pulses</td>\n",
       "      <td>2.0</td>\n",
       "      <td>1.0</td>\n",
       "    </tr>\n",
       "    <tr>\n",
       "      <th>2</th>\n",
       "      <td>Andaman and Nicobar Islands</td>\n",
       "      <td>NICOBARS</td>\n",
       "      <td>2000</td>\n",
       "      <td>Kharif</td>\n",
       "      <td>Rice</td>\n",
       "      <td>102.0</td>\n",
       "      <td>321.0</td>\n",
       "    </tr>\n",
       "    <tr>\n",
       "      <th>3</th>\n",
       "      <td>Andaman and Nicobar Islands</td>\n",
       "      <td>NICOBARS</td>\n",
       "      <td>2000</td>\n",
       "      <td>Whole Year</td>\n",
       "      <td>Banana</td>\n",
       "      <td>176.0</td>\n",
       "      <td>641.0</td>\n",
       "    </tr>\n",
       "    <tr>\n",
       "      <th>4</th>\n",
       "      <td>Andaman and Nicobar Islands</td>\n",
       "      <td>NICOBARS</td>\n",
       "      <td>2000</td>\n",
       "      <td>Whole Year</td>\n",
       "      <td>Cashewnut</td>\n",
       "      <td>720.0</td>\n",
       "      <td>165.0</td>\n",
       "    </tr>\n",
       "  </tbody>\n",
       "</table>\n",
       "</div>"
      ],
      "text/plain": [
       "                    State_Name District_Name  Crop_Year       Season  \\\n",
       "0  Andaman and Nicobar Islands      NICOBARS       2000  Kharif        \n",
       "1  Andaman and Nicobar Islands      NICOBARS       2000  Kharif        \n",
       "2  Andaman and Nicobar Islands      NICOBARS       2000  Kharif        \n",
       "3  Andaman and Nicobar Islands      NICOBARS       2000  Whole Year    \n",
       "4  Andaman and Nicobar Islands      NICOBARS       2000  Whole Year    \n",
       "\n",
       "                  Crop    Area  Production  \n",
       "0             Arecanut  1254.0      2000.0  \n",
       "1  Other Kharif pulses     2.0         1.0  \n",
       "2                 Rice   102.0       321.0  \n",
       "3               Banana   176.0       641.0  \n",
       "4            Cashewnut   720.0       165.0  "
      ]
     },
     "execution_count": 4,
     "metadata": {},
     "output_type": "execute_result"
    }
   ],
   "source": [
    "df.head()"
   ]
  },
  {
   "cell_type": "code",
   "execution_count": 5,
   "id": "e35549cc-bcc8-42bf-8a07-c063c7221026",
   "metadata": {},
   "outputs": [
    {
     "name": "stdout",
     "output_type": "stream",
     "text": [
      "<class 'pandas.core.frame.DataFrame'>\n",
      "RangeIndex: 246091 entries, 0 to 246090\n",
      "Data columns (total 7 columns):\n",
      " #   Column         Non-Null Count   Dtype  \n",
      "---  ------         --------------   -----  \n",
      " 0   State_Name     246091 non-null  object \n",
      " 1   District_Name  246091 non-null  object \n",
      " 2   Crop_Year      246091 non-null  int64  \n",
      " 3   Season         246091 non-null  object \n",
      " 4   Crop           246091 non-null  object \n",
      " 5   Area           246091 non-null  float64\n",
      " 6   Production     242361 non-null  float64\n",
      "dtypes: float64(2), int64(1), object(4)\n",
      "memory usage: 13.1+ MB\n"
     ]
    }
   ],
   "source": [
    "df.info()"
   ]
  },
  {
   "cell_type": "code",
   "execution_count": 6,
   "id": "f62cd98c-4ad8-4a9e-956e-a314e350a29d",
   "metadata": {},
   "outputs": [],
   "source": [
    "df[\"Date\"] = pd.to_datetime(df['Crop_Year'],format='%Y')"
   ]
  },
  {
   "cell_type": "code",
   "execution_count": 7,
   "id": "04240fb8-cdda-4cb3-8bf4-1abc5b215dc9",
   "metadata": {},
   "outputs": [
    {
     "data": {
      "text/html": [
       "<div>\n",
       "<style scoped>\n",
       "    .dataframe tbody tr th:only-of-type {\n",
       "        vertical-align: middle;\n",
       "    }\n",
       "\n",
       "    .dataframe tbody tr th {\n",
       "        vertical-align: top;\n",
       "    }\n",
       "\n",
       "    .dataframe thead th {\n",
       "        text-align: right;\n",
       "    }\n",
       "</style>\n",
       "<table border=\"1\" class=\"dataframe\">\n",
       "  <thead>\n",
       "    <tr style=\"text-align: right;\">\n",
       "      <th></th>\n",
       "      <th>State_Name</th>\n",
       "      <th>District_Name</th>\n",
       "      <th>Crop_Year</th>\n",
       "      <th>Season</th>\n",
       "      <th>Crop</th>\n",
       "      <th>Area</th>\n",
       "      <th>Production</th>\n",
       "      <th>Date</th>\n",
       "    </tr>\n",
       "  </thead>\n",
       "  <tbody>\n",
       "    <tr>\n",
       "      <th>0</th>\n",
       "      <td>Andaman and Nicobar Islands</td>\n",
       "      <td>NICOBARS</td>\n",
       "      <td>2000</td>\n",
       "      <td>Kharif</td>\n",
       "      <td>Arecanut</td>\n",
       "      <td>1254.0</td>\n",
       "      <td>2000.0</td>\n",
       "      <td>2000-01-01</td>\n",
       "    </tr>\n",
       "    <tr>\n",
       "      <th>1</th>\n",
       "      <td>Andaman and Nicobar Islands</td>\n",
       "      <td>NICOBARS</td>\n",
       "      <td>2000</td>\n",
       "      <td>Kharif</td>\n",
       "      <td>Other Kharif pulses</td>\n",
       "      <td>2.0</td>\n",
       "      <td>1.0</td>\n",
       "      <td>2000-01-01</td>\n",
       "    </tr>\n",
       "    <tr>\n",
       "      <th>2</th>\n",
       "      <td>Andaman and Nicobar Islands</td>\n",
       "      <td>NICOBARS</td>\n",
       "      <td>2000</td>\n",
       "      <td>Kharif</td>\n",
       "      <td>Rice</td>\n",
       "      <td>102.0</td>\n",
       "      <td>321.0</td>\n",
       "      <td>2000-01-01</td>\n",
       "    </tr>\n",
       "    <tr>\n",
       "      <th>3</th>\n",
       "      <td>Andaman and Nicobar Islands</td>\n",
       "      <td>NICOBARS</td>\n",
       "      <td>2000</td>\n",
       "      <td>Whole Year</td>\n",
       "      <td>Banana</td>\n",
       "      <td>176.0</td>\n",
       "      <td>641.0</td>\n",
       "      <td>2000-01-01</td>\n",
       "    </tr>\n",
       "    <tr>\n",
       "      <th>4</th>\n",
       "      <td>Andaman and Nicobar Islands</td>\n",
       "      <td>NICOBARS</td>\n",
       "      <td>2000</td>\n",
       "      <td>Whole Year</td>\n",
       "      <td>Cashewnut</td>\n",
       "      <td>720.0</td>\n",
       "      <td>165.0</td>\n",
       "      <td>2000-01-01</td>\n",
       "    </tr>\n",
       "  </tbody>\n",
       "</table>\n",
       "</div>"
      ],
      "text/plain": [
       "                    State_Name District_Name  Crop_Year       Season  \\\n",
       "0  Andaman and Nicobar Islands      NICOBARS       2000  Kharif        \n",
       "1  Andaman and Nicobar Islands      NICOBARS       2000  Kharif        \n",
       "2  Andaman and Nicobar Islands      NICOBARS       2000  Kharif        \n",
       "3  Andaman and Nicobar Islands      NICOBARS       2000  Whole Year    \n",
       "4  Andaman and Nicobar Islands      NICOBARS       2000  Whole Year    \n",
       "\n",
       "                  Crop    Area  Production       Date  \n",
       "0             Arecanut  1254.0      2000.0 2000-01-01  \n",
       "1  Other Kharif pulses     2.0         1.0 2000-01-01  \n",
       "2                 Rice   102.0       321.0 2000-01-01  \n",
       "3               Banana   176.0       641.0 2000-01-01  \n",
       "4            Cashewnut   720.0       165.0 2000-01-01  "
      ]
     },
     "execution_count": 7,
     "metadata": {},
     "output_type": "execute_result"
    }
   ],
   "source": [
    "df.head()"
   ]
  },
  {
   "cell_type": "code",
   "execution_count": 8,
   "id": "6808584e-0410-4ebf-909e-e487d7c8da37",
   "metadata": {},
   "outputs": [],
   "source": [
    "Unique_state_names=df[\"State_Name\"].unique()"
   ]
  },
  {
   "cell_type": "code",
   "execution_count": 9,
   "id": "2b082ad2-878e-4dfa-a02a-a596d97a37db",
   "metadata": {},
   "outputs": [
    {
     "name": "stdout",
     "output_type": "stream",
     "text": [
      "['Andaman and Nicobar Islands' 'Andhra Pradesh' 'Arunachal Pradesh'\n",
      " 'Assam' 'Bihar' 'Chandigarh' 'Chhattisgarh' 'Dadra and Nagar Haveli'\n",
      " 'Goa' 'Gujarat' 'Haryana' 'Himachal Pradesh' 'Jammu and Kashmir '\n",
      " 'Jharkhand' 'Karnataka' 'Kerala' 'Madhya Pradesh' 'Maharashtra' 'Manipur'\n",
      " 'Meghalaya' 'Mizoram' 'Nagaland' 'Odisha' 'Puducherry' 'Punjab'\n",
      " 'Rajasthan' 'Sikkim' 'Tamil Nadu' 'Telangana ' 'Tripura' 'Uttar Pradesh'\n",
      " 'Uttarakhand' 'West Bengal']\n"
     ]
    }
   ],
   "source": [
    "print(Unique_state_names)"
   ]
  },
  {
   "cell_type": "code",
   "execution_count": 10,
   "id": "8f0f3039-3291-43a9-81ec-428fe10f3046",
   "metadata": {},
   "outputs": [
    {
     "name": "stdout",
     "output_type": "stream",
     "text": [
      "<DatetimeArray>\n",
      "['2000-01-01 00:00:00', '2001-01-01 00:00:00', '2002-01-01 00:00:00',\n",
      " '2003-01-01 00:00:00', '2004-01-01 00:00:00', '2005-01-01 00:00:00',\n",
      " '2006-01-01 00:00:00', '2010-01-01 00:00:00', '1997-01-01 00:00:00',\n",
      " '1998-01-01 00:00:00', '1999-01-01 00:00:00', '2007-01-01 00:00:00',\n",
      " '2008-01-01 00:00:00', '2009-01-01 00:00:00', '2011-01-01 00:00:00',\n",
      " '2012-01-01 00:00:00', '2013-01-01 00:00:00', '2014-01-01 00:00:00',\n",
      " '2015-01-01 00:00:00']\n",
      "Length: 19, dtype: datetime64[ns]\n"
     ]
    }
   ],
   "source": [
    "Unique_date=df[\"Date\"].unique()\n",
    "print(Unique_date)"
   ]
  },
  {
   "cell_type": "code",
   "execution_count": 11,
   "id": "0dcd4711-9cd2-46d3-b91d-2a4a1b985550",
   "metadata": {},
   "outputs": [
    {
     "name": "stdout",
     "output_type": "stream",
     "text": [
      "['Kharif' 'Whole Year' 'Autumn' 'Rabi' 'Summer' 'Winter']\n"
     ]
    }
   ],
   "source": [
    "df[\"Season\"]=df[\"Season\"].str.strip()\n",
    "Unique_Season=df[\"Season\"].unique()\n",
    "print(Unique_Season)"
   ]
  },
  {
   "cell_type": "code",
   "execution_count": 12,
   "id": "d50cf19c-58c9-45a1-b40c-7c74b94f26de",
   "metadata": {},
   "outputs": [
    {
     "name": "stdout",
     "output_type": "stream",
     "text": [
      "['Kharif' 'Whole Year' 'Rabi' 'Zaid']\n"
     ]
    }
   ],
   "source": [
    "df[\"Season\"]=df[\"Season\"].apply(lambda x : \"Rabi\" if x == \"Winter\" else x)\n",
    "df[\"Season\"]=df[\"Season\"].apply(lambda x : \"Rabi\" if x == \"Autumn\" else x)\n",
    "df[\"Season\"]=df[\"Season\"].apply(lambda x : \"Zaid\" if x == \"Summer\" else x)\n",
    "print(df[\"Season\"].unique())"
   ]
  },
  {
   "cell_type": "code",
   "execution_count": 13,
   "id": "4f7baa7c-0c08-4f97-a64c-b02dd745a722",
   "metadata": {},
   "outputs": [
    {
     "name": "stdout",
     "output_type": "stream",
     "text": [
      "['Arecanut' 'Other Kharif pulses' 'Rice' 'Banana' 'Cashewnut' 'Coconut'\n",
      " 'Dry ginger' 'Sugarcane' 'Sweet potato' 'Tapioca' 'Black pepper'\n",
      " 'Dry chillies' 'other oilseeds' 'Turmeric' 'Maize' 'Moong(Green Gram)'\n",
      " 'Urad' 'Arhar/Tur' 'Groundnut' 'Sunflower' 'Bajra' 'Castor seed'\n",
      " 'Cotton(lint)' 'Horse-gram' 'Jowar' 'Korra' 'Ragi' 'Tobacco' 'Gram'\n",
      " 'Wheat' 'Masoor' 'Sesamum' 'Linseed' 'Safflower' 'Onion'\n",
      " 'other misc. pulses' 'Samai' 'Small millets' 'Coriander' 'Potato'\n",
      " 'Other  Rabi pulses' 'Soyabean' 'Beans & Mutter(Vegetable)' 'Bhindi'\n",
      " 'Brinjal' 'Citrus Fruit' 'Cucumber' 'Grapes' 'Mango' 'Orange'\n",
      " 'other fibres' 'Other Fresh Fruits' 'Other Vegetables' 'Papaya'\n",
      " 'Pome Fruit' 'Tomato' 'Rapeseed &Mustard' 'Mesta' 'Cowpea(Lobia)' 'Lemon'\n",
      " 'Pome Granet' 'Sapota' 'Cabbage' 'Peas  (vegetable)' 'Niger seed'\n",
      " 'Bottle Gourd' 'Sannhamp' 'Varagu' 'Garlic' 'Ginger' 'Oilseeds total'\n",
      " 'Pulses total' 'Jute' 'Peas & beans (Pulses)' 'Blackgram' 'Paddy'\n",
      " 'Pineapple' 'Barley' 'Khesari' 'Guar seed' 'Moth'\n",
      " 'Other Cereals & Millets' 'Cond-spcs other' 'Turnip' 'Carrot' 'Redish'\n",
      " 'Arcanut (Processed)' 'Atcanut (Raw)' 'Cashewnut Processed'\n",
      " 'Cashewnut Raw' 'Cardamom' 'Rubber' 'Bitter Gourd' 'Drum Stick'\n",
      " 'Jack Fruit' 'Snak Guard' 'Pump Kin' 'Tea' 'Coffee' 'Cauliflower'\n",
      " 'Other Citrus Fruit' 'Water Melon' 'Total foodgrain' 'Kapas' 'Colocosia'\n",
      " 'Lentil' 'Bean' 'Jobster' 'Perilla' 'Rajmash Kholar' 'Ricebean (nagadal)'\n",
      " 'Ash Gourd' 'Beet Root' 'Lab-Lab' 'Ribed Guard' 'Yam' 'Apple' 'Peach'\n",
      " 'Pear' 'Plums' 'Litchi' 'Ber' 'Other Dry Fruit' 'Jute & mesta']\n"
     ]
    }
   ],
   "source": [
    "df[\"Crop\"]=df[\"Crop\"].str.strip()\n",
    "Unique_Crop=df[\"Crop\"].unique()\n",
    "print(Unique_Crop)"
   ]
  },
  {
   "cell_type": "code",
   "execution_count": 14,
   "id": "15766b25-5bed-4068-892d-5b25670ef52e",
   "metadata": {},
   "outputs": [
    {
     "name": "stdout",
     "output_type": "stream",
     "text": [
      "['Arecanut' 'Other Kharif pulses' 'Rice' 'Banana' 'Cashewnut' 'Coconut'\n",
      " 'Dry ginger' 'Sugarcane' 'Sweet potato' 'Tapioca' 'Black pepper'\n",
      " 'Dry chillies' 'other oilseeds' 'Turmeric' 'Maize' 'Moong(Green Gram)'\n",
      " 'Urad' 'Arhar/Tur' 'Groundnut' 'Sunflower' 'Bajra' 'Castor seed'\n",
      " 'Cotton(lint)' 'Horse-gram' 'Jowar' 'Korra' 'Ragi' 'Tobacco' 'Gram'\n",
      " 'Wheat' 'Masoor' 'Sesamum' 'Linseed' 'Safflower' 'Onion'\n",
      " 'other misc. pulses' 'Samai' 'Small millets' 'Coriander' 'Potato'\n",
      " 'Other  Rabi pulses' 'Soyabean' 'Beans & Mutter(Vegetable)' 'Bhindi'\n",
      " 'Brinjal' 'Citrus Fruit' 'Cucumber' 'Grapes' 'Mango' 'Orange'\n",
      " 'other fibres' 'Other Fresh Fruits' 'Other Vegetables' 'Papaya'\n",
      " 'Pome Fruit' 'Tomato' 'Rapeseed &Mustard' 'Mesta' 'Cowpea(Lobia)' 'Lemon'\n",
      " 'Pome Granet' 'Sapota' 'Cabbage' 'Peas  (vegetable)' 'Niger seed'\n",
      " 'Bottle Gourd' 'Sannhamp' 'Varagu' 'Garlic' 'Ginger' 'Oilseeds total'\n",
      " 'Pulses total' 'Jute' 'Peas & beans (Pulses)' 'Blackgram' 'Paddy'\n",
      " 'Pineapple' 'Barley' 'Khesari' 'Guar seed' 'Moth'\n",
      " 'Other Cereals & Millets' 'Cond-spcs other' 'Turnip' 'Carrot' 'Redish'\n",
      " 'Arcanut (Processed)' 'Atcanut (Raw)' 'Cashewnut Processed'\n",
      " 'Cashewnut Raw' 'Cardamom' 'Rubber' 'Bitter Gourd' 'Drum Stick'\n",
      " 'Jack Fruit' 'Snak Guard' 'Pump Kin' 'Tea' 'Coffee' 'Cauliflower'\n",
      " 'Other Citrus Fruit' 'Water Melon' 'Total foodgrain' 'Kapas' 'Colocosia'\n",
      " 'Lentil' 'Bean' 'Jobster' 'Perilla' 'Rajmash Kholar' 'Ricebean (nagadal)'\n",
      " 'Ash Gourd' 'Beet Root' 'Lab-Lab' 'Ribed Guard' 'Yam' 'Apple' 'Peach'\n",
      " 'Pear' 'Plums' 'Litchi' 'Ber' 'Other Dry Fruit' 'Jute & mesta']\n"
     ]
    }
   ],
   "source": [
    "df[\"Crop\"]=df[\"Crop\"].apply(lambda x : \"Sesamum\" if x == \"Sesamum\" else x)\n",
    "df[\"Crop\"]=df[\"Crop\"].apply(lambda x : \"Pome Granet\" if x == \"Pome Granet\" else x)\n",
    "df[\"Crop\"]=df[\"Crop\"].apply(lambda x : \"Sannhamp\" if x == \"Sannhamp\" else x)\n",
    "df[\"Crop\"]=df[\"Crop\"].apply(lambda x : \"Redish\" if x == \"Redish\" else x)\n",
    "df[\"Crop\"]=df[\"Crop\"].apply(lambda x : \"Soyabean\" if x == \"Soyabean\" else x)\n",
    "df[\"Crop\"]=df[\"Crop\"].apply(lambda x : \"Paddy\" if x == \"Paddy\" else x)\n",
    "df[\"Crop\"]=df[\"Crop\"].apply(lambda x : \"Pump Kin\" if x == \"Pump Kin\" else x)\n",
    "df[\"Crop\"]=df[\"Crop\"].apply(lambda x : \"Lentil\" if x == \"Lentil\" else x)\n",
    "df[\"Crop\"]=df[\"Crop\"].apply(lambda x : \"Blackgram\" if x == \"Blackgram\" else x)\n",
    "df[\"Crop\"]=df[\"Crop\"].apply(lambda x : \"Snak Guard\" if x == \"Snak Guard\" else x)\n",
    "\n",
    "print(df[\"Crop\"].unique())"
   ]
  },
  {
   "cell_type": "code",
   "execution_count": 15,
   "id": "066a76ff-b20d-4226-bb71-a33fee633b7c",
   "metadata": {},
   "outputs": [
    {
     "name": "stdout",
     "output_type": "stream",
     "text": [
      "['plantation' 'pulses' 'fruits' 'dryfruits' 'condiments' 'vegetables'\n",
      " 'oilseeds' 'Cereal']\n"
     ]
    }
   ],
   "source": [
    "def category_name(name):\n",
    "    Cereals=['Wheat','Maize','Bajra','Paddy','Wheat','Jowar','Korra','Ragi','Samai','Small millets','Ragi','Varagu','Barley','Khesari','Other Cereals & Millets']\n",
    "    pulses=['Peas & beans (Pulses)','other misc. pulses','Other  Rabi pulses','Pulses total','Other Kharif pulses','Moong(Green Gram)','Blackgram','Lentil','Arhar/Tur','Gram','Horse-gram']\n",
    "    vegetables=['Beet Root','Pump Kin','Snak Guard','Drum Stick','Carrot' ,'Ash Gourd','Ribed Guard','Bean','Peas  (vegetable)','Cucumber','Beans & Mutter(Vegetable)','Cabbage','Sweet potato','Lemon','Potato','Onion','Other Vegetables','Tomato','Tapioca','Bhindi','Brinjal',]\n",
    "    fruits=['Grapes','Barley','Mango','Jack Fruit','Orange','Papaya','Yam' ,'Pear','Plums','Litchi','Banana','Apple','Peach','Water Melon','Pineapple','Pome Fruit','Pome Granet','Other Fresh Fruits','Citrus Fruit']\n",
    "    oilseeds=['Sunflower','Safflower','Groundnut','Castor seed','Sesamum','Linseed','Niger seed','Rapeseed &Mustard','Niger seed','other oilseeds','other oilseeds']\n",
    "    condiments=['Dry ginger','Dry chillies','Black pepper','Dry chillies','Turmeric','Coriander','Garlic','Ginger','Cond-spcs other','Arcanut (Processed)','Cardamom']\n",
    "    dryfruits=['Cashewnut','Cashewnut Raw','Cashewnut Processed','Other Dry Fruit']\n",
    "    plantation=['Sugarcane','Cotton(lint)','Coconut','Jute','Rubber','Jute & mesta','Cardamom','Tobacco','Guar seed','Rubber','Tea','Coffee','other fibres']\n",
    "    if name in Cereals:\n",
    "        return 'Cereal'\n",
    "    elif name in pulses:\n",
    "        return 'pulses'\n",
    "    elif name in vegetables:\n",
    "        return 'vegetables'\n",
    "    elif name in fruits:\n",
    "        return 'fruits'\n",
    "    elif name in oilseeds:\n",
    "        return 'oilseeds'    \n",
    "    elif name in condiments:\n",
    "        return 'condiments' \n",
    "    elif name in dryfruits:\n",
    "        return 'dryfruits'\n",
    "    else:\n",
    "        return 'plantation'\n",
    "   \n",
    "\n",
    "\n",
    "df[\"category\"]=df[\"Crop\"].apply(category_name)\n",
    "print(df[\"category\"].unique())"
   ]
  },
  {
   "cell_type": "code",
   "execution_count": 16,
   "id": "0e312758-4013-4ae1-902f-dfb06795cdaa",
   "metadata": {},
   "outputs": [
    {
     "name": "stdout",
     "output_type": "stream",
     "text": [
      "['South india' 'East india' 'North india' 'West india']\n"
     ]
    }
   ],
   "source": [
    "def category_name(name):\n",
    "    east_india=['west bengal','Tripura','Arunachal Pradesh','Assam','Manipur','Meghalaya','Mizoram','sikkim','odisha']\n",
    "    west_india=['Maharashtra','Gujarat','Dadra and Nagar Haveli','Goa','Rajastan']\n",
    "    north_india=['Bihar','Nagaland','Chandigarh','Chhattisgarh','Haryana','Himachal Pradesh','Jammu and Kashmir','Jharkhand','Uttar Pradesh','Madhya Pradesh','Punjab','uttarakhand']\n",
    "    south_india=['Tamilnadu','Telengana','Andaman and Nicobar Islands','Andhra Pradesh','Karnataka','Kerala','Puducherry']\n",
    "    \n",
    "    if name in east_india:\n",
    "        return 'East india'\n",
    "    elif name in west_india:\n",
    "        return 'West india'\n",
    "    elif name in north_india:\n",
    "        return 'North india'    \n",
    "    else:\n",
    "        return 'South india'\n",
    "\n",
    "\n",
    "df[\"Region\"]=df[\"State_Name\"].apply(category_name)\n",
    "print(df[\"Region\"].unique())"
   ]
  },
  {
   "cell_type": "code",
   "execution_count": 17,
   "id": "71f6727a-bf99-4183-96c1-5ab120045676",
   "metadata": {},
   "outputs": [
    {
     "data": {
      "text/plain": [
       "<bound method Series.unique of Series([], Name: State_Name, dtype: object)>"
      ]
     },
     "execution_count": 17,
     "metadata": {},
     "output_type": "execute_result"
    }
   ],
   "source": [
    "my_df=df.loc[df['Region'] == 'None']\n",
    "my_df[\"State_Name\"].unique"
   ]
  },
  {
   "cell_type": "code",
   "execution_count": 18,
   "id": "e6ffb0d1-b073-4f14-a0d2-290bcd9983ce",
   "metadata": {},
   "outputs": [
    {
     "data": {
      "text/html": [
       "<div>\n",
       "<style scoped>\n",
       "    .dataframe tbody tr th:only-of-type {\n",
       "        vertical-align: middle;\n",
       "    }\n",
       "\n",
       "    .dataframe tbody tr th {\n",
       "        vertical-align: top;\n",
       "    }\n",
       "\n",
       "    .dataframe thead th {\n",
       "        text-align: right;\n",
       "    }\n",
       "</style>\n",
       "<table border=\"1\" class=\"dataframe\">\n",
       "  <thead>\n",
       "    <tr style=\"text-align: right;\">\n",
       "      <th></th>\n",
       "      <th>State_Name</th>\n",
       "      <th>District_Name</th>\n",
       "      <th>Crop_Year</th>\n",
       "      <th>Season</th>\n",
       "      <th>Crop</th>\n",
       "      <th>Area</th>\n",
       "      <th>Production</th>\n",
       "      <th>Date</th>\n",
       "      <th>category</th>\n",
       "      <th>Region</th>\n",
       "    </tr>\n",
       "  </thead>\n",
       "  <tbody>\n",
       "    <tr>\n",
       "      <th>0</th>\n",
       "      <td>Andaman and Nicobar Islands</td>\n",
       "      <td>NICOBARS</td>\n",
       "      <td>2000</td>\n",
       "      <td>Kharif</td>\n",
       "      <td>Arecanut</td>\n",
       "      <td>1254.0</td>\n",
       "      <td>2000.0</td>\n",
       "      <td>2000-01-01</td>\n",
       "      <td>plantation</td>\n",
       "      <td>South india</td>\n",
       "    </tr>\n",
       "    <tr>\n",
       "      <th>1</th>\n",
       "      <td>Andaman and Nicobar Islands</td>\n",
       "      <td>NICOBARS</td>\n",
       "      <td>2000</td>\n",
       "      <td>Kharif</td>\n",
       "      <td>Other Kharif pulses</td>\n",
       "      <td>2.0</td>\n",
       "      <td>1.0</td>\n",
       "      <td>2000-01-01</td>\n",
       "      <td>pulses</td>\n",
       "      <td>South india</td>\n",
       "    </tr>\n",
       "    <tr>\n",
       "      <th>2</th>\n",
       "      <td>Andaman and Nicobar Islands</td>\n",
       "      <td>NICOBARS</td>\n",
       "      <td>2000</td>\n",
       "      <td>Kharif</td>\n",
       "      <td>Rice</td>\n",
       "      <td>102.0</td>\n",
       "      <td>321.0</td>\n",
       "      <td>2000-01-01</td>\n",
       "      <td>plantation</td>\n",
       "      <td>South india</td>\n",
       "    </tr>\n",
       "    <tr>\n",
       "      <th>3</th>\n",
       "      <td>Andaman and Nicobar Islands</td>\n",
       "      <td>NICOBARS</td>\n",
       "      <td>2000</td>\n",
       "      <td>Whole Year</td>\n",
       "      <td>Banana</td>\n",
       "      <td>176.0</td>\n",
       "      <td>641.0</td>\n",
       "      <td>2000-01-01</td>\n",
       "      <td>fruits</td>\n",
       "      <td>South india</td>\n",
       "    </tr>\n",
       "    <tr>\n",
       "      <th>4</th>\n",
       "      <td>Andaman and Nicobar Islands</td>\n",
       "      <td>NICOBARS</td>\n",
       "      <td>2000</td>\n",
       "      <td>Whole Year</td>\n",
       "      <td>Cashewnut</td>\n",
       "      <td>720.0</td>\n",
       "      <td>165.0</td>\n",
       "      <td>2000-01-01</td>\n",
       "      <td>dryfruits</td>\n",
       "      <td>South india</td>\n",
       "    </tr>\n",
       "  </tbody>\n",
       "</table>\n",
       "</div>"
      ],
      "text/plain": [
       "                    State_Name District_Name  Crop_Year      Season  \\\n",
       "0  Andaman and Nicobar Islands      NICOBARS       2000      Kharif   \n",
       "1  Andaman and Nicobar Islands      NICOBARS       2000      Kharif   \n",
       "2  Andaman and Nicobar Islands      NICOBARS       2000      Kharif   \n",
       "3  Andaman and Nicobar Islands      NICOBARS       2000  Whole Year   \n",
       "4  Andaman and Nicobar Islands      NICOBARS       2000  Whole Year   \n",
       "\n",
       "                  Crop    Area  Production       Date    category       Region  \n",
       "0             Arecanut  1254.0      2000.0 2000-01-01  plantation  South india  \n",
       "1  Other Kharif pulses     2.0         1.0 2000-01-01      pulses  South india  \n",
       "2                 Rice   102.0       321.0 2000-01-01  plantation  South india  \n",
       "3               Banana   176.0       641.0 2000-01-01      fruits  South india  \n",
       "4            Cashewnut   720.0       165.0 2000-01-01   dryfruits  South india  "
      ]
     },
     "execution_count": 18,
     "metadata": {},
     "output_type": "execute_result"
    }
   ],
   "source": [
    "df.head()"
   ]
  },
  {
   "cell_type": "code",
   "execution_count": 19,
   "id": "60093a2f-467c-4e33-a84e-8add00d483be",
   "metadata": {},
   "outputs": [],
   "source": [
    "df.columns = ['State_Name','District_Name','Crop_Year','Season','Crop','Area(Hr)','Production(tn)','Date','category','Region']"
   ]
  },
  {
   "cell_type": "code",
   "execution_count": 20,
   "id": "6b049d19-78b2-4bf8-91f5-fccaee46fe35",
   "metadata": {},
   "outputs": [
    {
     "data": {
      "text/plain": [
       "Index(['State_Name', 'District_Name', 'Crop_Year', 'Season', 'Crop',\n",
       "       'Area(Hr)', 'Production(tn)', 'Date', 'category', 'Region'],\n",
       "      dtype='object')"
      ]
     },
     "execution_count": 20,
     "metadata": {},
     "output_type": "execute_result"
    }
   ],
   "source": [
    "df.columns"
   ]
  },
  {
   "cell_type": "code",
   "execution_count": 21,
   "id": "523697e4-d734-48bd-8f81-8276c5790f2a",
   "metadata": {},
   "outputs": [
    {
     "data": {
      "text/html": [
       "<div>\n",
       "<style scoped>\n",
       "    .dataframe tbody tr th:only-of-type {\n",
       "        vertical-align: middle;\n",
       "    }\n",
       "\n",
       "    .dataframe tbody tr th {\n",
       "        vertical-align: top;\n",
       "    }\n",
       "\n",
       "    .dataframe thead th {\n",
       "        text-align: right;\n",
       "    }\n",
       "</style>\n",
       "<table border=\"1\" class=\"dataframe\">\n",
       "  <thead>\n",
       "    <tr style=\"text-align: right;\">\n",
       "      <th></th>\n",
       "      <th>State_Name</th>\n",
       "      <th>District_Name</th>\n",
       "      <th>Crop_Year</th>\n",
       "      <th>Season</th>\n",
       "      <th>Crop</th>\n",
       "      <th>Area(Hr)</th>\n",
       "      <th>Production(tn)</th>\n",
       "      <th>Date</th>\n",
       "      <th>category</th>\n",
       "      <th>Region</th>\n",
       "    </tr>\n",
       "  </thead>\n",
       "  <tbody>\n",
       "    <tr>\n",
       "      <th>0</th>\n",
       "      <td>Andaman and Nicobar Islands</td>\n",
       "      <td>NICOBARS</td>\n",
       "      <td>2000</td>\n",
       "      <td>Kharif</td>\n",
       "      <td>Arecanut</td>\n",
       "      <td>1254.0</td>\n",
       "      <td>2000.0</td>\n",
       "      <td>2000-01-01</td>\n",
       "      <td>plantation</td>\n",
       "      <td>South india</td>\n",
       "    </tr>\n",
       "    <tr>\n",
       "      <th>1</th>\n",
       "      <td>Andaman and Nicobar Islands</td>\n",
       "      <td>NICOBARS</td>\n",
       "      <td>2000</td>\n",
       "      <td>Kharif</td>\n",
       "      <td>Other Kharif pulses</td>\n",
       "      <td>2.0</td>\n",
       "      <td>1.0</td>\n",
       "      <td>2000-01-01</td>\n",
       "      <td>pulses</td>\n",
       "      <td>South india</td>\n",
       "    </tr>\n",
       "    <tr>\n",
       "      <th>2</th>\n",
       "      <td>Andaman and Nicobar Islands</td>\n",
       "      <td>NICOBARS</td>\n",
       "      <td>2000</td>\n",
       "      <td>Kharif</td>\n",
       "      <td>Rice</td>\n",
       "      <td>102.0</td>\n",
       "      <td>321.0</td>\n",
       "      <td>2000-01-01</td>\n",
       "      <td>plantation</td>\n",
       "      <td>South india</td>\n",
       "    </tr>\n",
       "    <tr>\n",
       "      <th>3</th>\n",
       "      <td>Andaman and Nicobar Islands</td>\n",
       "      <td>NICOBARS</td>\n",
       "      <td>2000</td>\n",
       "      <td>Whole Year</td>\n",
       "      <td>Banana</td>\n",
       "      <td>176.0</td>\n",
       "      <td>641.0</td>\n",
       "      <td>2000-01-01</td>\n",
       "      <td>fruits</td>\n",
       "      <td>South india</td>\n",
       "    </tr>\n",
       "    <tr>\n",
       "      <th>4</th>\n",
       "      <td>Andaman and Nicobar Islands</td>\n",
       "      <td>NICOBARS</td>\n",
       "      <td>2000</td>\n",
       "      <td>Whole Year</td>\n",
       "      <td>Cashewnut</td>\n",
       "      <td>720.0</td>\n",
       "      <td>165.0</td>\n",
       "      <td>2000-01-01</td>\n",
       "      <td>dryfruits</td>\n",
       "      <td>South india</td>\n",
       "    </tr>\n",
       "  </tbody>\n",
       "</table>\n",
       "</div>"
      ],
      "text/plain": [
       "                    State_Name District_Name  Crop_Year      Season  \\\n",
       "0  Andaman and Nicobar Islands      NICOBARS       2000      Kharif   \n",
       "1  Andaman and Nicobar Islands      NICOBARS       2000      Kharif   \n",
       "2  Andaman and Nicobar Islands      NICOBARS       2000      Kharif   \n",
       "3  Andaman and Nicobar Islands      NICOBARS       2000  Whole Year   \n",
       "4  Andaman and Nicobar Islands      NICOBARS       2000  Whole Year   \n",
       "\n",
       "                  Crop  Area(Hr)  Production(tn)       Date    category  \\\n",
       "0             Arecanut    1254.0          2000.0 2000-01-01  plantation   \n",
       "1  Other Kharif pulses       2.0             1.0 2000-01-01      pulses   \n",
       "2                 Rice     102.0           321.0 2000-01-01  plantation   \n",
       "3               Banana     176.0           641.0 2000-01-01      fruits   \n",
       "4            Cashewnut     720.0           165.0 2000-01-01   dryfruits   \n",
       "\n",
       "        Region  \n",
       "0  South india  \n",
       "1  South india  \n",
       "2  South india  \n",
       "3  South india  \n",
       "4  South india  "
      ]
     },
     "execution_count": 21,
     "metadata": {},
     "output_type": "execute_result"
    }
   ],
   "source": [
    "df.head()"
   ]
  },
  {
   "cell_type": "code",
   "execution_count": 22,
   "id": "bade34f2-51ec-47f5-a4c2-52a14b2a270c",
   "metadata": {},
   "outputs": [],
   "source": [
    "df[\"productivity\"]=df[\"Production(tn)\"]/df[\"Area(Hr)\"]\n"
   ]
  },
  {
   "cell_type": "code",
   "execution_count": 23,
   "id": "af3b0313-4f9b-4abc-8ed2-4d5c4ef9a465",
   "metadata": {},
   "outputs": [
    {
     "data": {
      "text/plain": [
       "Index(['State_Name', 'District_Name', 'Crop_Year', 'Season', 'Crop',\n",
       "       'Area(Hr)', 'Production(tn)', 'Date', 'category', 'Region',\n",
       "       'productivity'],\n",
       "      dtype='object')"
      ]
     },
     "execution_count": 23,
     "metadata": {},
     "output_type": "execute_result"
    }
   ],
   "source": [
    "df.columns"
   ]
  },
  {
   "cell_type": "code",
   "execution_count": 24,
   "id": "670b2f54-1b51-43c3-9b32-75f9bd09cc80",
   "metadata": {},
   "outputs": [
    {
     "data": {
      "text/html": [
       "<div>\n",
       "<style scoped>\n",
       "    .dataframe tbody tr th:only-of-type {\n",
       "        vertical-align: middle;\n",
       "    }\n",
       "\n",
       "    .dataframe tbody tr th {\n",
       "        vertical-align: top;\n",
       "    }\n",
       "\n",
       "    .dataframe thead th {\n",
       "        text-align: right;\n",
       "    }\n",
       "</style>\n",
       "<table border=\"1\" class=\"dataframe\">\n",
       "  <thead>\n",
       "    <tr style=\"text-align: right;\">\n",
       "      <th></th>\n",
       "      <th>State_Name</th>\n",
       "      <th>District_Name</th>\n",
       "      <th>Crop_Year</th>\n",
       "      <th>Season</th>\n",
       "      <th>Crop</th>\n",
       "      <th>Area(Hr)</th>\n",
       "      <th>Production(tn)</th>\n",
       "      <th>Date</th>\n",
       "      <th>category</th>\n",
       "      <th>Region</th>\n",
       "      <th>productivity</th>\n",
       "    </tr>\n",
       "  </thead>\n",
       "  <tbody>\n",
       "    <tr>\n",
       "      <th>0</th>\n",
       "      <td>Andaman and Nicobar Islands</td>\n",
       "      <td>NICOBARS</td>\n",
       "      <td>2000</td>\n",
       "      <td>Kharif</td>\n",
       "      <td>Arecanut</td>\n",
       "      <td>1254.0</td>\n",
       "      <td>2000.0</td>\n",
       "      <td>2000-01-01</td>\n",
       "      <td>plantation</td>\n",
       "      <td>South india</td>\n",
       "      <td>1.594896</td>\n",
       "    </tr>\n",
       "    <tr>\n",
       "      <th>1</th>\n",
       "      <td>Andaman and Nicobar Islands</td>\n",
       "      <td>NICOBARS</td>\n",
       "      <td>2000</td>\n",
       "      <td>Kharif</td>\n",
       "      <td>Other Kharif pulses</td>\n",
       "      <td>2.0</td>\n",
       "      <td>1.0</td>\n",
       "      <td>2000-01-01</td>\n",
       "      <td>pulses</td>\n",
       "      <td>South india</td>\n",
       "      <td>0.500000</td>\n",
       "    </tr>\n",
       "    <tr>\n",
       "      <th>2</th>\n",
       "      <td>Andaman and Nicobar Islands</td>\n",
       "      <td>NICOBARS</td>\n",
       "      <td>2000</td>\n",
       "      <td>Kharif</td>\n",
       "      <td>Rice</td>\n",
       "      <td>102.0</td>\n",
       "      <td>321.0</td>\n",
       "      <td>2000-01-01</td>\n",
       "      <td>plantation</td>\n",
       "      <td>South india</td>\n",
       "      <td>3.147059</td>\n",
       "    </tr>\n",
       "    <tr>\n",
       "      <th>3</th>\n",
       "      <td>Andaman and Nicobar Islands</td>\n",
       "      <td>NICOBARS</td>\n",
       "      <td>2000</td>\n",
       "      <td>Whole Year</td>\n",
       "      <td>Banana</td>\n",
       "      <td>176.0</td>\n",
       "      <td>641.0</td>\n",
       "      <td>2000-01-01</td>\n",
       "      <td>fruits</td>\n",
       "      <td>South india</td>\n",
       "      <td>3.642045</td>\n",
       "    </tr>\n",
       "    <tr>\n",
       "      <th>4</th>\n",
       "      <td>Andaman and Nicobar Islands</td>\n",
       "      <td>NICOBARS</td>\n",
       "      <td>2000</td>\n",
       "      <td>Whole Year</td>\n",
       "      <td>Cashewnut</td>\n",
       "      <td>720.0</td>\n",
       "      <td>165.0</td>\n",
       "      <td>2000-01-01</td>\n",
       "      <td>dryfruits</td>\n",
       "      <td>South india</td>\n",
       "      <td>0.229167</td>\n",
       "    </tr>\n",
       "  </tbody>\n",
       "</table>\n",
       "</div>"
      ],
      "text/plain": [
       "                    State_Name District_Name  Crop_Year      Season  \\\n",
       "0  Andaman and Nicobar Islands      NICOBARS       2000      Kharif   \n",
       "1  Andaman and Nicobar Islands      NICOBARS       2000      Kharif   \n",
       "2  Andaman and Nicobar Islands      NICOBARS       2000      Kharif   \n",
       "3  Andaman and Nicobar Islands      NICOBARS       2000  Whole Year   \n",
       "4  Andaman and Nicobar Islands      NICOBARS       2000  Whole Year   \n",
       "\n",
       "                  Crop  Area(Hr)  Production(tn)       Date    category  \\\n",
       "0             Arecanut    1254.0          2000.0 2000-01-01  plantation   \n",
       "1  Other Kharif pulses       2.0             1.0 2000-01-01      pulses   \n",
       "2                 Rice     102.0           321.0 2000-01-01  plantation   \n",
       "3               Banana     176.0           641.0 2000-01-01      fruits   \n",
       "4            Cashewnut     720.0           165.0 2000-01-01   dryfruits   \n",
       "\n",
       "        Region  productivity  \n",
       "0  South india      1.594896  \n",
       "1  South india      0.500000  \n",
       "2  South india      3.147059  \n",
       "3  South india      3.642045  \n",
       "4  South india      0.229167  "
      ]
     },
     "execution_count": 24,
     "metadata": {},
     "output_type": "execute_result"
    }
   ],
   "source": [
    "df.head()"
   ]
  },
  {
   "cell_type": "code",
   "execution_count": 29,
   "id": "387dad92-fddf-478f-909d-292f3fce0dd4",
   "metadata": {},
   "outputs": [
    {
     "data": {
      "text/plain": [
       "(218379, 11)"
      ]
     },
     "execution_count": 29,
     "metadata": {},
     "output_type": "execute_result"
    }
   ],
   "source": [
    "df.shape"
   ]
  },
  {
   "cell_type": "code",
   "execution_count": 33,
   "id": "3adb1553-bc68-49dc-983c-670a2ebcc873",
   "metadata": {},
   "outputs": [],
   "source": [
    "#df=df.drop(df[df['Area(Hr)'] ==1].index)\n",
    "#df=df.drop(df[df['Area(Hr)'] ==2].index)\n",
    "#df=df.drop(df[df['Area(Hr)'] ==3].index)\n",
    "#df=df.drop(df[df['Area(Hr)'] ==4].index)\n",
    "#df=df.drop(df[df['Area(Hr)'] ==5].index)\n",
    "#df=df.drop(df[df['Area(Hr)'] ==6].index)\n",
    "#df=df.drop(df[df['Area(Hr)'] ==7].index)\n",
    "#df=df.drop(df[df['Area(Hr)'] ==10].index)"
   ]
  },
  {
   "cell_type": "code",
   "execution_count": 34,
   "id": "3e6ead0a-517e-402c-aef4-1737009ccc1f",
   "metadata": {},
   "outputs": [],
   "source": [
    "#df=df.drop(df[df['Production(tn)'] ==1].index)\n",
    "#df=df.drop(df[df['Production(tn)'] ==0].index)\n",
    "#df=df.drop(df[df['Production(tn)'] ==2].index)\n",
    "#df=df.drop(df[df['Production(tn)'] ==3].index)\n",
    "#df=df.drop(df[df['Production(tn)'] ==5].index)\n",
    "#df=df.drop(df[df['Production(tn)'] ==4].index)\n",
    "#df=df.drop(df[df['Production(tn)'] ==6].index)\n",
    "#df=df.drop(df[df['Production(tn)'] ==10].index)"
   ]
  },
  {
   "cell_type": "code",
   "execution_count": 35,
   "id": "e3123da8-652a-4018-aa6f-bc10c0b82797",
   "metadata": {},
   "outputs": [
    {
     "data": {
      "text/plain": [
       "(218379, 11)"
      ]
     },
     "execution_count": 35,
     "metadata": {},
     "output_type": "execute_result"
    }
   ],
   "source": [
    "df.shape"
   ]
  },
  {
   "cell_type": "code",
   "execution_count": 40,
   "id": "6d9414c8-6c20-45ca-88ae-a7d9e485e6b6",
   "metadata": {},
   "outputs": [
    {
     "data": {
      "text/plain": [
       "State_Name           0\n",
       "District_Name        0\n",
       "Crop_Year            0\n",
       "Season               0\n",
       "Crop                 0\n",
       "Area(Hr)             0\n",
       "Production(tn)    1917\n",
       "Date                 0\n",
       "category             0\n",
       "Region               0\n",
       "productivity      1917\n",
       "dtype: int64"
      ]
     },
     "execution_count": 40,
     "metadata": {},
     "output_type": "execute_result"
    }
   ],
   "source": [
    "df.isnull().sum()"
   ]
  },
  {
   "cell_type": "code",
   "execution_count": 41,
   "id": "54ca3bc8-99f2-4a66-8605-b3fdc1566fd6",
   "metadata": {},
   "outputs": [],
   "source": [
    "df.dropna(inplace= True)"
   ]
  },
  {
   "cell_type": "code",
   "execution_count": 42,
   "id": "2a7c93ca-bc3d-4418-a34d-0616e83af8cc",
   "metadata": {},
   "outputs": [
    {
     "data": {
      "text/plain": [
       "(216462, 11)"
      ]
     },
     "execution_count": 42,
     "metadata": {},
     "output_type": "execute_result"
    }
   ],
   "source": [
    "df.shape"
   ]
  },
  {
   "cell_type": "code",
   "execution_count": 43,
   "id": "56d0d078-ee17-40be-9f8b-bae5bc8d9e72",
   "metadata": {},
   "outputs": [
    {
     "data": {
      "text/plain": [
       "State_Name        0\n",
       "District_Name     0\n",
       "Crop_Year         0\n",
       "Season            0\n",
       "Crop              0\n",
       "Area(Hr)          0\n",
       "Production(tn)    0\n",
       "Date              0\n",
       "category          0\n",
       "Region            0\n",
       "productivity      0\n",
       "dtype: int64"
      ]
     },
     "execution_count": 43,
     "metadata": {},
     "output_type": "execute_result"
    }
   ],
   "source": [
    "df.isnull().sum()"
   ]
  },
  {
   "cell_type": "code",
   "execution_count": 47,
   "id": "38643679-e22a-40b1-b9fb-28eba6a21055",
   "metadata": {},
   "outputs": [],
   "source": [
    "df.to_csv(\"cleaned crop data.csv\",index = False)"
   ]
  },
  {
   "cell_type": "code",
   "execution_count": 45,
   "id": "c5d1dbd7-44de-4471-aa54-fb9af6f2ed59",
   "metadata": {},
   "outputs": [
    {
     "data": {
      "text/plain": [
       "Index(['State_Name', 'District_Name', 'Crop_Year', 'Season', 'Crop',\n",
       "       'Area(Hr)', 'Production(tn)', 'Date', 'category', 'Region',\n",
       "       'productivity'],\n",
       "      dtype='object')"
      ]
     },
     "execution_count": 45,
     "metadata": {},
     "output_type": "execute_result"
    }
   ],
   "source": [
    "df.columns"
   ]
  },
  {
   "cell_type": "code",
   "execution_count": 46,
   "id": "5af50c37-d6e5-44f0-89cc-757b903464ec",
   "metadata": {},
   "outputs": [
    {
     "data": {
      "text/html": [
       "<div>\n",
       "<style scoped>\n",
       "    .dataframe tbody tr th:only-of-type {\n",
       "        vertical-align: middle;\n",
       "    }\n",
       "\n",
       "    .dataframe tbody tr th {\n",
       "        vertical-align: top;\n",
       "    }\n",
       "\n",
       "    .dataframe thead th {\n",
       "        text-align: right;\n",
       "    }\n",
       "</style>\n",
       "<table border=\"1\" class=\"dataframe\">\n",
       "  <thead>\n",
       "    <tr style=\"text-align: right;\">\n",
       "      <th></th>\n",
       "      <th>State_Name</th>\n",
       "      <th>District_Name</th>\n",
       "      <th>Crop_Year</th>\n",
       "      <th>Season</th>\n",
       "      <th>Crop</th>\n",
       "      <th>Area(Hr)</th>\n",
       "      <th>Production(tn)</th>\n",
       "      <th>Date</th>\n",
       "      <th>category</th>\n",
       "      <th>Region</th>\n",
       "      <th>productivity</th>\n",
       "    </tr>\n",
       "  </thead>\n",
       "  <tbody>\n",
       "    <tr>\n",
       "      <th>0</th>\n",
       "      <td>Andaman and Nicobar Islands</td>\n",
       "      <td>NICOBARS</td>\n",
       "      <td>2000</td>\n",
       "      <td>Kharif</td>\n",
       "      <td>Arecanut</td>\n",
       "      <td>1254.0</td>\n",
       "      <td>2000.0</td>\n",
       "      <td>2000-01-01</td>\n",
       "      <td>plantation</td>\n",
       "      <td>South india</td>\n",
       "      <td>1.594896</td>\n",
       "    </tr>\n",
       "    <tr>\n",
       "      <th>2</th>\n",
       "      <td>Andaman and Nicobar Islands</td>\n",
       "      <td>NICOBARS</td>\n",
       "      <td>2000</td>\n",
       "      <td>Kharif</td>\n",
       "      <td>Rice</td>\n",
       "      <td>102.0</td>\n",
       "      <td>321.0</td>\n",
       "      <td>2000-01-01</td>\n",
       "      <td>plantation</td>\n",
       "      <td>South india</td>\n",
       "      <td>3.147059</td>\n",
       "    </tr>\n",
       "    <tr>\n",
       "      <th>3</th>\n",
       "      <td>Andaman and Nicobar Islands</td>\n",
       "      <td>NICOBARS</td>\n",
       "      <td>2000</td>\n",
       "      <td>Whole Year</td>\n",
       "      <td>Banana</td>\n",
       "      <td>176.0</td>\n",
       "      <td>641.0</td>\n",
       "      <td>2000-01-01</td>\n",
       "      <td>fruits</td>\n",
       "      <td>South india</td>\n",
       "      <td>3.642045</td>\n",
       "    </tr>\n",
       "    <tr>\n",
       "      <th>4</th>\n",
       "      <td>Andaman and Nicobar Islands</td>\n",
       "      <td>NICOBARS</td>\n",
       "      <td>2000</td>\n",
       "      <td>Whole Year</td>\n",
       "      <td>Cashewnut</td>\n",
       "      <td>720.0</td>\n",
       "      <td>165.0</td>\n",
       "      <td>2000-01-01</td>\n",
       "      <td>dryfruits</td>\n",
       "      <td>South india</td>\n",
       "      <td>0.229167</td>\n",
       "    </tr>\n",
       "    <tr>\n",
       "      <th>5</th>\n",
       "      <td>Andaman and Nicobar Islands</td>\n",
       "      <td>NICOBARS</td>\n",
       "      <td>2000</td>\n",
       "      <td>Whole Year</td>\n",
       "      <td>Coconut</td>\n",
       "      <td>18168.0</td>\n",
       "      <td>65100000.0</td>\n",
       "      <td>2000-01-01</td>\n",
       "      <td>plantation</td>\n",
       "      <td>South india</td>\n",
       "      <td>3583.223250</td>\n",
       "    </tr>\n",
       "  </tbody>\n",
       "</table>\n",
       "</div>"
      ],
      "text/plain": [
       "                    State_Name District_Name  Crop_Year      Season  \\\n",
       "0  Andaman and Nicobar Islands      NICOBARS       2000      Kharif   \n",
       "2  Andaman and Nicobar Islands      NICOBARS       2000      Kharif   \n",
       "3  Andaman and Nicobar Islands      NICOBARS       2000  Whole Year   \n",
       "4  Andaman and Nicobar Islands      NICOBARS       2000  Whole Year   \n",
       "5  Andaman and Nicobar Islands      NICOBARS       2000  Whole Year   \n",
       "\n",
       "        Crop  Area(Hr)  Production(tn)       Date    category       Region  \\\n",
       "0   Arecanut    1254.0          2000.0 2000-01-01  plantation  South india   \n",
       "2       Rice     102.0           321.0 2000-01-01  plantation  South india   \n",
       "3     Banana     176.0           641.0 2000-01-01      fruits  South india   \n",
       "4  Cashewnut     720.0           165.0 2000-01-01   dryfruits  South india   \n",
       "5    Coconut   18168.0      65100000.0 2000-01-01  plantation  South india   \n",
       "\n",
       "   productivity  \n",
       "0      1.594896  \n",
       "2      3.147059  \n",
       "3      3.642045  \n",
       "4      0.229167  \n",
       "5   3583.223250  "
      ]
     },
     "execution_count": 46,
     "metadata": {},
     "output_type": "execute_result"
    }
   ],
   "source": [
    "df.head()"
   ]
  },
  {
   "cell_type": "code",
   "execution_count": null,
   "id": "7691fd62-fa03-42d8-8f4c-eff7dd40f06e",
   "metadata": {},
   "outputs": [],
   "source": []
  },
  {
   "cell_type": "code",
   "execution_count": null,
   "id": "851e1a13-ddf9-483a-b465-63f863efa3cd",
   "metadata": {},
   "outputs": [],
   "source": []
  }
 ],
 "metadata": {
  "kernelspec": {
   "display_name": "Python 3 (ipykernel)",
   "language": "python",
   "name": "python3"
  },
  "language_info": {
   "codemirror_mode": {
    "name": "ipython",
    "version": 3
   },
   "file_extension": ".py",
   "mimetype": "text/x-python",
   "name": "python",
   "nbconvert_exporter": "python",
   "pygments_lexer": "ipython3",
   "version": "3.11.5"
  }
 },
 "nbformat": 4,
 "nbformat_minor": 5
}
